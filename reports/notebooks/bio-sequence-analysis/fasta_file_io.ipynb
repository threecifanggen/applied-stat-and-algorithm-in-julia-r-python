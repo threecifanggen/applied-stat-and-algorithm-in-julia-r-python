{
 "cells": [
  {
   "cell_type": "code",
   "execution_count": 31,
   "metadata": {},
   "outputs": [],
   "source": [
    "import pandas as pd\n"
   ]
  },
  {
   "cell_type": "code",
   "execution_count": 32,
   "metadata": {},
   "outputs": [
    {
     "name": "stdout",
     "output_type": "stream",
     "text": [
      ">NP_001036059.1 POT1 [organism=Homo sapiens] [GeneID=25913] [isoform=4]\n",
      "MVEALRVWASTHMSPSWTLLKLCDVQPMQYFDLTCQLLGKAEVDGASFLLKVWDGTRTPFPSWRVLIQDL\n",
      "VLEGDLSHIHRLQNLTIDILVYDNHVHVARSLKVGSFLRIYSLHTKLQSMNSENQTMLSLEFHLHGGTSY\n",
      "GRGIRVLPESNSDVDQLKKDLESANLTANQHSDVICQSEPDDSFPSSGSVSLYEVERCQQLSATILTDHQ\n",
      "YLERTPLCAILKQKAPQQYRIRAKLRSYKPRRLFQSVKLHCPKCHLLQEVPHEGDLDIIFQDGATKTPDV\n",
      "KLQNTSLYDSKIWTTKNQKGRKVAVHFVKNNGILPLSNECLLLIEGGTLSEICKLSNKFNSVIPVRSGHE\n",
      "DLELLDLSAPFLIQGTIHHYGCKQCSSLRSIQNLNSLVDKTSWIPSSVAEALGIVPLQYVFVMTFTLDDG\n",
      "TGVLEAYLMDSDKFFQIPASEVLMDDDLQKSVDMIMDMFCPPGIKIDAYPWLECFIKSYNVTNGTDNQIC\n",
      "YQIFDTTVAEDVI\n",
      ">NP_056265.2 POT1 [organism=Homo sapiens] [GeneID=25913] [isoform=1]\n",
      "MSLVPATNYIYTPLNQLKGGTIVNVYGVVKFFKPPYLSKGTDYCSVVTIVDQTNVKLTCLLFSGNYEALP\n",
      "IIYKNGDIVRFHRLKIQVYKKETQGITSSGFASLTFEGTLGAPIIPRTSSKYFNFTTEDHKMVEALRVWA\n",
      "STHMSPSWTLLKLCDVQPMQYFDLTCQLLGKAEVDGASFLLKVWDGTRTPFPSWRVLIQDLVLEGDLSHI\n",
      "HRLQNLTIDILVYDNHVHVARSLKVGSFLRIYSLHTKLQSMNSENQTMLSLEFHLHGGTSYGRGIRVLPE\n",
      "SNSDVDQLKKDLESANLTANQHSDVICQSEPDDSFPSSGSVSLYEVERCQQLSATILTDHQYLERTPLCA\n",
      "ILKQKAPQQYRIRAKLRSYKPRRLFQSVKLHCPKCHLLQEVPHEGDLDIIFQDGATKTPDVKLQNTSLYD\n",
      "SKIWTTKNQKGRKVAVHFVKNNGILPLSNECLLLIEGGTLSEICKLSNKFNSVIPVRSGHEDLELLDLSA\n",
      "PFLIQGTIHHYGCKQCSSLRSIQNLNSLVDKTSWIPSSVAEALGIVPLQYVFVMTFTLDDGTGVLEAYLM\n",
      "DSDKFFQIPASEVLMDDDLQKSVDMIMDMFCPPGIKIDAYPWLECFIKSYNVTNGTDNQICYQIFDTTVA\n",
      "EDVI\n",
      "\n"
     ]
    }
   ],
   "source": [
    "fasta_file = open('../../../datasets/human_sapien_telomeres_1.faa', encoding=\"utf8\").read()\n",
    "print(fasta_file)"
   ]
  },
  {
   "cell_type": "code",
   "execution_count": 23,
   "metadata": {},
   "outputs": [],
   "source": [
    "def parse_single(seq_single):\n",
    "    res = [seg for seg in seq_single.split(\"\\n\")]\n",
    "    return {\"meta\": res[0], \"seq\":\"\".join(res[1:])}\n",
    "\n",
    "def parse_fasta(fasta_file):\n",
    "    \"\"\"解析fasta文件\n",
    "\n",
    "    Args:\n",
    "        fasta_file (文字): 具体文件内容\n",
    "\n",
    "    Returns:\n",
    "        _type_: 返回序列结果\n",
    "    \"\"\"\n",
    "    res = [parse_single(seq) for seq in fasta_file.split('>') if seq != \"\"]\n",
    "    return res"
   ]
  },
  {
   "cell_type": "markdown",
   "metadata": {},
   "source": [
    "## 计算各个氨基酸出现的频率"
   ]
  },
  {
   "cell_type": "code",
   "execution_count": 26,
   "metadata": {},
   "outputs": [
    {
     "data": {
      "text/plain": [
       "'MVEALRVWASTHMSPSWTLLKLCDVQPMQYFDLTCQLLGKAEVDGASFLLKVWDGTRTPFPSWRVLIQDLVLEGDLSHIHRLQNLTIDILVYDNHVHVARSLKVGSFLRIYSLHTKLQSMNSENQTMLSLEFHLHGGTSYGRGIRVLPESNSDVDQLKKDLESANLTANQHSDVICQSEPDDSFPSSGSVSLYEVERCQQLSATILTDHQYLERTPLCAILKQKAPQQYRIRAKLRSYKPRRLFQSVKLHCPKCHLLQEVPHEGDLDIIFQDGATKTPDVKLQNTSLYDSKIWTTKNQKGRKVAVHFVKNNGILPLSNECLLLIEGGTLSEICKLSNKFNSVIPVRSGHEDLELLDLSAPFLIQGTIHHYGCKQCSSLRSIQNLNSLVDKTSWIPSSVAEALGIVPLQYVFVMTFTLDDGTGVLEAYLMDSDKFFQIPASEVLMDDDLQKSVDMIMDMFCPPGIKIDAYPWLECFIKSYNVTNGTDNQICYQIFDTTVAEDVIMSLVPATNYIYTPLNQLKGGTIVNVYGVVKFFKPPYLSKGTDYCSVVTIVDQTNVKLTCLLFSGNYEALPIIYKNGDIVRFHRLKIQVYKKETQGITSSGFASLTFEGTLGAPIIPRTSSKYFNFTTEDHKMVEALRVWASTHMSPSWTLLKLCDVQPMQYFDLTCQLLGKAEVDGASFLLKVWDGTRTPFPSWRVLIQDLVLEGDLSHIHRLQNLTIDILVYDNHVHVARSLKVGSFLRIYSLHTKLQSMNSENQTMLSLEFHLHGGTSYGRGIRVLPESNSDVDQLKKDLESANLTANQHSDVICQSEPDDSFPSSGSVSLYEVERCQQLSATILTDHQYLERTPLCAILKQKAPQQYRIRAKLRSYKPRRLFQSVKLHCPKCHLLQEVPHEGDLDIIFQDGATKTPDVKLQNTSLYDSKIWTTKNQKGRKVAVHFVKNNGILPLSNECLLLIEGGTLSEICKLSNKFNSVIPVRSGHEDLELLDLSAPFLIQGTIHHYGCKQCSSLRSIQNLNSLVDKTSWIPSSVAEALGIVPLQYVFVMTFTLDDGTGVLEAYLMDSDKFFQIPASEVLMDDDLQKSVDMIMDMFCPPGIKIDAYPWLECFIKSYNVTNGTDNQICYQIFDTTVAEDVI'"
      ]
     },
     "execution_count": 26,
     "metadata": {},
     "output_type": "execute_result"
    }
   ],
   "source": [
    "all_seq = \"\".join(seg['seq'] for seg in parse_fasta(fasta_file))\n",
    "all_seq"
   ]
  },
  {
   "cell_type": "code",
   "execution_count": 30,
   "metadata": {},
   "outputs": [
    {
     "data": {
      "text/plain": [
       "L    0.122252\n",
       "S    0.087071\n",
       "V    0.071240\n",
       "D    0.066843\n",
       "I    0.061566\n",
       "T    0.061566\n",
       "K    0.058927\n",
       "Q    0.054529\n",
       "G    0.051011\n",
       "P    0.044855\n",
       "E    0.043975\n",
       "N    0.039578\n",
       "F    0.038698\n",
       "A    0.038698\n",
       "Y    0.034301\n",
       "R    0.034301\n",
       "H    0.031662\n",
       "C    0.026385\n",
       "M    0.020229\n",
       "W    0.012313\n",
       "dtype: float64"
      ]
     },
     "execution_count": 30,
     "metadata": {},
     "output_type": "execute_result"
    }
   ],
   "source": [
    "seq_serie = pd.Series(list(all_seq))\n",
    "seq_serie_percentage = seq_serie.value_counts()/seq_serie.__len__()\n",
    "seq_serie_percentage "
   ]
  }
 ],
 "metadata": {
  "kernelspec": {
   "display_name": "Python 3.9.13 ('stat')",
   "language": "python",
   "name": "python3"
  },
  "language_info": {
   "codemirror_mode": {
    "name": "ipython",
    "version": 3
   },
   "file_extension": ".py",
   "mimetype": "text/x-python",
   "name": "python",
   "nbconvert_exporter": "python",
   "pygments_lexer": "ipython3",
   "version": "3.9.13"
  },
  "orig_nbformat": 4,
  "vscode": {
   "interpreter": {
    "hash": "21bc63be7c930157ceecc9d4e988db9105685b690693ffc96ee31d66977c9dfa"
   }
  }
 },
 "nbformat": 4,
 "nbformat_minor": 2
}
