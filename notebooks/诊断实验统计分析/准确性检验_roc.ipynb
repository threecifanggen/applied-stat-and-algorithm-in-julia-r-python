{
 "cells": [
  {
   "cell_type": "markdown",
   "metadata": {},
   "source": [
    "# 准确性检验"
   ]
  },
  {
   "cell_type": "code",
   "execution_count": 69,
   "metadata": {},
   "outputs": [],
   "source": [
    "import pandas as pd\n",
    "from plotnine import *\n",
    "from sklearn.metrics import auc, roc_curve, roc_auc_score"
   ]
  },
  {
   "cell_type": "code",
   "execution_count": 7,
   "metadata": {},
   "outputs": [
    {
     "data": {
      "text/html": [
       "<div>\n",
       "<style scoped>\n",
       "    .dataframe tbody tr th:only-of-type {\n",
       "        vertical-align: middle;\n",
       "    }\n",
       "\n",
       "    .dataframe tbody tr th {\n",
       "        vertical-align: top;\n",
       "    }\n",
       "\n",
       "    .dataframe thead th {\n",
       "        text-align: right;\n",
       "    }\n",
       "</style>\n",
       "<table border=\"1\" class=\"dataframe\">\n",
       "  <thead>\n",
       "    <tr style=\"text-align: right;\">\n",
       "      <th></th>\n",
       "      <th>受试对象</th>\n",
       "      <th>诊断结果</th>\n",
       "      <th>检测1</th>\n",
       "      <th>检测2</th>\n",
       "    </tr>\n",
       "  </thead>\n",
       "  <tbody>\n",
       "    <tr>\n",
       "      <th>0</th>\n",
       "      <td>1</td>\n",
       "      <td>病人</td>\n",
       "      <td>112.7</td>\n",
       "      <td>124.0</td>\n",
       "    </tr>\n",
       "    <tr>\n",
       "      <th>1</th>\n",
       "      <td>2</td>\n",
       "      <td>病人</td>\n",
       "      <td>104.0</td>\n",
       "      <td>135.8</td>\n",
       "    </tr>\n",
       "    <tr>\n",
       "      <th>2</th>\n",
       "      <td>3</td>\n",
       "      <td>病人</td>\n",
       "      <td>126.7</td>\n",
       "      <td>122.7</td>\n",
       "    </tr>\n",
       "    <tr>\n",
       "      <th>3</th>\n",
       "      <td>4</td>\n",
       "      <td>病人</td>\n",
       "      <td>123.3</td>\n",
       "      <td>158.4</td>\n",
       "    </tr>\n",
       "    <tr>\n",
       "      <th>4</th>\n",
       "      <td>5</td>\n",
       "      <td>病人</td>\n",
       "      <td>120.5</td>\n",
       "      <td>141.2</td>\n",
       "    </tr>\n",
       "  </tbody>\n",
       "</table>\n",
       "</div>"
      ],
      "text/plain": [
       "   受试对象 诊断结果    检测1    检测2\n",
       "0     1   病人  112.7  124.0\n",
       "1     2   病人  104.0  135.8\n",
       "2     3   病人  126.7  122.7\n",
       "3     4   病人  123.3  158.4\n",
       "4     5   病人  120.5  141.2"
      ]
     },
     "execution_count": 7,
     "metadata": {},
     "output_type": "execute_result"
    }
   ],
   "source": [
    "df = pd.read_excel(\"../../datasets/100例受试对象的金标准诊断和两种诊断实验结果.xlsx\")\n",
    "df['is_patient'] = df['诊断结果'].apply(lambda x: 1 if x == \"病人\" else 0)\n",
    "df['test_1'] = df['检测1']\n",
    "df['test_2'] = df['检测2']\n",
    "df.head()"
   ]
  },
  {
   "cell_type": "code",
   "execution_count": 50,
   "metadata": {},
   "outputs": [],
   "source": [
    "positive_num = sum(df['is_patient'] == 1)\n",
    "negative_num = sum(df['is_patient'] == 0)\n",
    "df['test_1_tpr'] = test1_tpr = df['test_1'].apply(\n",
    "    lambda x: df[(df['test_1'] >= x)&(df['is_patient'] == 1)].shape[0] / positive_num\n",
    "    )\n",
    "df['test_1_fpr'] = test1_fpr = df['test_1'].apply(\n",
    "    lambda x: df[(df['test_1'] >= x)&(df['is_patient'] == 0)].shape[0] / negative_num\n",
    "    )\n",
    "df['test_2_tpr'] = test2_tpr = df['test_2'].apply(\n",
    "    lambda x: df[(df['test_2'] >= x)&(df['is_patient'] == 1)].shape[0] / positive_num\n",
    "    )\n",
    "df['test_2_fpr'] = test2_fpr = df['test_2'].apply(\n",
    "    lambda x: df[(df['test_2'] >= x)&(df['is_patient'] == 0)].shape[0] / negative_num\n",
    "    )\n",
    "test_df = pd.DataFrame(\n",
    "    {\n",
    "        \"test_tpr\": test1_tpr.tolist() + test2_tpr.tolist(),\n",
    "        \"test_fpr\": test1_fpr.tolist() + test2_fpr.tolist(),\n",
    "        \"test_name\": [\"test_1\"] * test1_fpr.shape[0] + [\"test_2\"] * test2_fpr.shape[0]\n",
    "    }\n",
    ")\n"
   ]
  },
  {
   "cell_type": "code",
   "execution_count": 58,
   "metadata": {},
   "outputs": [
    {
     "data": {
      "image/png": "[encoded data removed]",
      "text/plain": [
       "<Figure size 640x480 with 1 Axes>"
      ]
     },
     "metadata": {},
     "output_type": "display_data"
    },
    {
     "data": {
      "text/plain": [
       "<ggplot: (152511805483)>"
      ]
     },
     "execution_count": 58,
     "metadata": {},
     "output_type": "execute_result"
    }
   ],
   "source": [
    "ggplot(test_df.sort_values([\"test_tpr\"]), aes(x = \"test_fpr\", y = \"test_tpr\", group=\"test_name\")) + \\\n",
    "    geom_step(aes(color=\"test_name\")) + \\\n",
    "    stat_function(fun = lambda x: x, color=\"grey\") + \\\n",
    "    ylab(\"TPR\") + xlab(\"FPR\") + ggtitle(\"ROC Line\")"
   ]
  },
  {
   "cell_type": "code",
   "execution_count": 70,
   "metadata": {},
   "outputs": [
    {
     "data": {
      "text/plain": [
       "(0.9446464646464647, 0.9446464646464647)"
      ]
     },
     "execution_count": 70,
     "metadata": {},
     "output_type": "execute_result"
    }
   ],
   "source": [
    "fpr, tpr, thresholds = roc_curve(df['is_patient'], (df['test_1'] - df['test_1'].min()) / (df['test_1'].max() - df['test_1'].mean()))\n",
    "auc(fpr, tpr), roc_auc_score(df['is_patient'], (df['test_1'] - df['test_1'].min()) / (df['test_1'].max() - df['test_1'].mean()))"
   ]
  },
  {
   "cell_type": "code",
   "execution_count": 71,
   "metadata": {},
   "outputs": [
    {
     "data": {
      "text/plain": [
       "(0.6628282828282828, 0.6628282828282828)"
      ]
     },
     "execution_count": 71,
     "metadata": {},
     "output_type": "execute_result"
    }
   ],
   "source": [
    "fpr, tpr, thresholds = roc_curve(df['is_patient'], (df['test_2'] - df['test_2'].min()) / (df['test_2'].max() - df['test_2'].mean()))\n",
    "auc(fpr, tpr), roc_auc_score(df['is_patient'], (df['test_2'] - df['test_2'].min()) / (df['test_2'].max() - df['test_2'].mean()))"
   ]
  }
 ],
 "metadata": {
  "kernelspec": {
   "display_name": "Python 3.9.13 ('stat')",
   "language": "python",
   "name": "python3"
  },
  "language_info": {
   "codemirror_mode": {
    "name": "ipython",
    "version": 3
   },
   "file_extension": ".py",
   "mimetype": "text/x-python",
   "name": "python",
   "nbconvert_exporter": "python",
   "pygments_lexer": "ipython3",
   "version": "3.9.13"
  },
  "orig_nbformat": 4,
  "vscode": {
   "interpreter": {
    "hash": "21bc63be7c930157ceecc9d4e988db9105685b690693ffc96ee31d66977c9dfa"
   }
  }
 },
 "nbformat": 4,
 "nbformat_minor": 2
}
