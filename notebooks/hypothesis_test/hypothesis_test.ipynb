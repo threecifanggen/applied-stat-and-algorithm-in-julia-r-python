{
 "cells": [
  {
   "cell_type": "code",
   "execution_count": 22,
   "metadata": {},
   "outputs": [],
   "source": [
    "import numpy as np\n",
    "import scipy.stats as st\n",
    "import statsmodels.stats as sts"
   ]
  },
  {
   "cell_type": "markdown",
   "metadata": {},
   "source": [
    "## t统计量\n",
    "\n",
    "t统计量公式为\n",
    "\n",
    "$$\n",
    "t = \\frac { \\bar {x} - \\mu _0} {s / \\sqrt{n}}\n",
    "$$\n",
    "\n",
    "\n",
    "### 例子与`Python`实现\n",
    "\n",
    "> 某药厂以麻黄碱重要复方颗粒进行质量控制，要求麻黄碱标准含量为1.48mg/g。现在批次含量为下，求是否符合要求。\n"
   ]
  },
  {
   "cell_type": "code",
   "execution_count": 14,
   "metadata": {},
   "outputs": [
    {
     "data": {
      "text/plain": [
       "(-2.038562656608345, 2.1788128296634177, False)"
      ]
     },
     "execution_count": 14,
     "metadata": {},
     "output_type": "execute_result"
    }
   ],
   "source": [
    "ALPHA = 0.05\n",
    "x = [1.29, 1.30, 1.32, 1.33, 1.34, 1.37, 1.40, 1.43, 1.45, 1.49, 1.53, 1.58, 1.63]\n",
    "t_x = (np.mean(x) - 1.48) / (np.std(x) / np.sqrt(len(x)))\n",
    "standard_t = st.t.ppf(1 - ALPHA/2, len(x) - 1)\n",
    "\n",
    "(t_x, standard_t, np.abs(t_x) > standard_t)"
   ]
  },
  {
   "cell_type": "code",
   "execution_count": 12,
   "metadata": {},
   "outputs": [
    {
     "data": {
      "text/plain": [
       "Ttest_1sampResult(statistic=-1.9585876477121285, pvalue=0.07381411266932902)"
      ]
     },
     "execution_count": 12,
     "metadata": {},
     "output_type": "execute_result"
    }
   ],
   "source": [
    "st.ttest_1samp(x, 1.48)"
   ]
  },
  {
   "cell_type": "markdown",
   "metadata": {},
   "source": [
    "# Wilcox检验"
   ]
  },
  {
   "cell_type": "markdown",
   "metadata": {},
   "source": [
    "> ### 例子\n",
    "> \n",
    "> 正常男性尿检中位数$M_0$为$0.33\\mu mol/L$，抽取工厂血铅含量如下，求是否符合正常。"
   ]
  },
  {
   "cell_type": "code",
   "execution_count": 23,
   "metadata": {},
   "outputs": [
    {
     "data": {
      "text/plain": [
       "(7.0, 0.001312255859375)"
      ]
     },
     "execution_count": 23,
     "metadata": {},
     "output_type": "execute_result"
    }
   ],
   "source": [
    "M_0 = 0.33\n",
    "M = [0.29, 0.31, 0.34, 0.37, 0.38, 0.41, 0.47, 0.52, 0.69, 0.72, 0.73, 0.77, 0.78, 0.80, 0.83, 0.92, 0.95, 0.97]\n",
    "sts.descriptivestats.sign_test(M, M_0) "
   ]
  }
 ],
 "metadata": {
  "kernelspec": {
   "display_name": "Python 3.7.4 ('stats')",
   "language": "python",
   "name": "python3"
  },
  "language_info": {
   "codemirror_mode": {
    "name": "ipython",
    "version": 3
   },
   "file_extension": ".py",
   "mimetype": "text/x-python",
   "name": "python",
   "nbconvert_exporter": "python",
   "pygments_lexer": "ipython3",
   "version": "3.7.4"
  },
  "orig_nbformat": 4,
  "vscode": {
   "interpreter": {
    "hash": "3c1dc085c17b27aa89fb5234e249b7f7e26dc819c1d2934de00774f753ff2808"
   }
  }
 },
 "nbformat": 4,
 "nbformat_minor": 2
}
